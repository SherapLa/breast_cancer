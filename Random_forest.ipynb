{
  "nbformat": 4,
  "nbformat_minor": 0,
  "metadata": {
    "colab": {
      "name": "Random_forest.ipynb",
      "provenance": []
    },
    "kernelspec": {
      "name": "python3",
      "display_name": "Python 3"
    },
    "language_info": {
      "name": "python"
    }
  },
  "cells": [
    {
      "cell_type": "code",
      "execution_count": 3,
      "metadata": {
        "id": "2W2Ovuh59C_u"
      },
      "outputs": [],
      "source": [
        "import pandas as pd\n",
        "import numpy as np\n",
        "from sklearn import ensemble\n",
        "from sklearn.model_selection import train_test_split\n",
        "from sklearn.metrics import accuracy_score, classification_report, confusion_matrix\n",
        "\n",
        "df = pd.read_csv('/content/drive/MyDrive/Colab Notebooks/breast_cancer/data.csv')"
      ]
    },
    {
      "cell_type": "code",
      "source": [
        "df.drop(df.columns[[0,-1]], axis=1, inplace=True)\n",
        "# Split the features data and the target \n",
        "Xdata = df.drop(['diagnosis'], axis=1)\n",
        "ydata = df['diagnosis']\n",
        "\n",
        "# Encoding the target value \n",
        "yenc = np.asarray([1 if c == 'M' else 0 for c in ydata])\n",
        "cols = ['concave points_mean','area_mean','radius_mean','perimeter_mean','concavity_mean',]\n",
        "Xdata = df[cols]\n",
        "print(Xdata.columns)\n",
        "\n",
        "X_train, X_test, y_train, y_test = train_test_split(Xdata, yenc, \n",
        "                                                    test_size=0.3,\n",
        "                                                    random_state=43)\n",
        "print('Shape training set: X:{}, y:{}'.format(X_train.shape, y_train.shape))\n",
        "print('Shape test set: X:{}, y:{}'.format(X_test.shape, y_test.shape))"
      ],
      "metadata": {
        "colab": {
          "base_uri": "https://localhost:8080/"
        },
        "id": "3q3SHKGM9Xwb",
        "outputId": "f6c448c0-72df-4a39-b148-47826767beb4"
      },
      "execution_count": 4,
      "outputs": [
        {
          "output_type": "stream",
          "name": "stdout",
          "text": [
            "Index(['concave points_mean', 'area_mean', 'radius_mean', 'perimeter_mean',\n",
            "       'concavity_mean'],\n",
            "      dtype='object')\n",
            "Shape training set: X:(398, 5), y:(398,)\n",
            "Shape test set: X:(171, 5), y:(171,)\n"
          ]
        }
      ]
    },
    {
      "cell_type": "markdown",
      "source": [
        "## Random Forest Classifier"
      ],
      "metadata": {
        "id": "f3D8G-4V9k2T"
      }
    },
    {
      "cell_type": "code",
      "source": [
        "import pickle\n",
        "\n",
        "model = ensemble.RandomForestClassifier()\n",
        "model.fit(X_train, y_train)\n",
        "y_pred = model.predict(X_test)\n",
        "print('Accuracy : {}'.format(accuracy_score(y_test, y_pred)))\n",
        "\n",
        "clf_report = classification_report(y_test, y_pred)\n",
        "print('Classification report')\n",
        "print(\"---------------------\")\n",
        "print(clf_report)\n",
        "print(\"_____________________\")\n",
        "\n",
        "# save the model to disk\n",
        "filename = '/content/drive/MyDrive/Colab Notebooks/breast_cancer/sherap_model_v2.h5'\n",
        "pickle.dump(model, open(filename, 'wb'))"
      ],
      "metadata": {
        "colab": {
          "base_uri": "https://localhost:8080/"
        },
        "id": "3zJ1TYu89dLo",
        "outputId": "f63166a2-20e8-439b-b96d-01cfb94f1d9f"
      },
      "execution_count": 8,
      "outputs": [
        {
          "output_type": "stream",
          "name": "stdout",
          "text": [
            "Accuracy : 0.935672514619883\n",
            "Classification report\n",
            "---------------------\n",
            "              precision    recall  f1-score   support\n",
            "\n",
            "           0       0.96      0.94      0.95       114\n",
            "           1       0.88      0.93      0.91        57\n",
            "\n",
            "    accuracy                           0.94       171\n",
            "   macro avg       0.92      0.93      0.93       171\n",
            "weighted avg       0.94      0.94      0.94       171\n",
            "\n",
            "_____________________\n"
          ]
        }
      ]
    },
    {
      "cell_type": "code",
      "source": [
        ""
      ],
      "metadata": {
        "id": "DCy52jMW9o6C"
      },
      "execution_count": null,
      "outputs": []
    }
  ]
}